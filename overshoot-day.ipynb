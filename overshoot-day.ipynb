{
 "cells": [
  {
   "cell_type": "markdown",
   "metadata": {},
   "source": [
    "# World Overshoot Day"
   ]
  },
  {
   "cell_type": "markdown",
   "metadata": {},
   "source": [
    "Earth Overshoot Day marks the date when humanity’s demand for ecological resources (fish and forests, for instance) and services in a given year exceeds what Earth can regenerate in that year. We keep growing this deficit by liquidating the Earth’s natural capital and accumulating waste, primarily carbon dioxide in the atmosphere. Andrew Simms originally conceived the concept of Earth Overshoot Day while working at the UK think tank New Economics Foundation."
   ]
  },
  {
   "cell_type": "markdown",
   "metadata": {},
   "source": [
    "## Importing libraries we'll need later"
   ]
  },
  {
   "cell_type": "code",
   "execution_count": 114,
   "metadata": {},
   "outputs": [],
   "source": [
    "# Needed for scraping\n",
    "import requests\n",
    "from bs4 import BeautifulSoup as bs\n",
    "\n",
    "# CSV manipulations\n",
    "import csv\n",
    "\n",
    "# Import Pandas data library \n",
    "import pandas as pd\n",
    "\n",
    "# Import NumPy\n",
    "import numpy as np\n",
    "\n",
    "# Import Matplotlib\n",
    "from matplotlib import pyplot as plt\n",
    "\n",
    "# Date functions\n",
    "from datetime import datetime\n",
    "from time import strptime"
   ]
  },
  {
   "cell_type": "markdown",
   "metadata": {},
   "source": [
    "## Setting the URL to scrape data from"
   ]
  },
  {
   "cell_type": "code",
   "execution_count": 115,
   "metadata": {},
   "outputs": [],
   "source": [
    "dataURL = \"https://www.overshootday.org/newsroom/past-earth-overshoot-days/\""
   ]
  },
  {
   "cell_type": "code",
   "execution_count": 116,
   "metadata": {},
   "outputs": [],
   "source": [
    "# Using BeautifulSoup to scrape the URL\n",
    "url = requests.get(dataURL)\n",
    "soup = bs(url.content, 'html.parser')"
   ]
  },
  {
   "cell_type": "code",
   "execution_count": 117,
   "metadata": {},
   "outputs": [],
   "source": [
    "# On the data website, the elements are awkwardly nested in a <div> container\n",
    "# with a class 'wpb_content_element', so we tell BeautifulSoup to find those\n",
    "# in the scraped website\n",
    "\n",
    "allContainers = soup.find_all(\"div\", {\"class\": \"wpb_content_element\"})[3:]\n",
    "# ... the [3:] slices out those we don't need"
   ]
  },
  {
   "cell_type": "code",
   "execution_count": 118,
   "metadata": {},
   "outputs": [],
   "source": [
    "# We loop through this container and look for a <p> element (contains the data)\n",
    "\n",
    "# (... an empty list to fill in the loop)\n",
    "paragraphs = []\n",
    "for container in allContainers:\n",
    "    # ... and add them all to the paragraph list\n",
    "    paragraphs.append(container.find('p'))"
   ]
  },
  {
   "cell_type": "markdown",
   "metadata": {},
   "source": [
    "## Doing some cleaning of the data..."
   ]
  },
  {
   "cell_type": "code",
   "execution_count": 119,
   "metadata": {},
   "outputs": [],
   "source": [
    "# We have all the necessary paragraphs in a list, and now loop those ...\n",
    "\n",
    "# (... an empty list to fill in the texts)\n",
    "scraped = []\n",
    "\n",
    "# Here we loop through the paragraphs list and add them to scraped,\n",
    "# doing some string replacing and splitting to turn the (long) string\n",
    "# that contains all the data into machine-readable items:\n",
    "for paragraph in paragraphs:\n",
    "    res = str(paragraph.text).replace(', ',',').replace(' ',',').replace('\\n',';')\n",
    "    split = res.split(';')\n",
    "    scraped.append(split)\n",
    "    \n",
    "# After that, we'll have to join the three items since the texts are split\n",
    "# into three paragraphs (which we looped above), to have them all in one\n",
    "# single list:\n",
    "\n",
    "allElements = scraped[0] + scraped[1] + scraped[2]"
   ]
  },
  {
   "cell_type": "markdown",
   "metadata": {},
   "source": [
    "## Data into Dataframe, and also saving as .csv file"
   ]
  },
  {
   "cell_type": "code",
   "execution_count": 120,
   "metadata": {},
   "outputs": [
    {
     "name": "stdout",
     "output_type": "stream",
     "text": [
      "        Month Day  Year\n",
      "0    December  29  1970\n",
      "1    December  20  1971\n",
      "2    December  10  1972\n",
      "3    November  26  1973\n",
      "4    November  27  1974\n",
      "5    November  30  1975\n",
      "6    November  16  1976\n",
      "7    November  11  1977\n",
      "8    November   7  1978\n",
      "9     October  29  1979\n",
      "10   November   4  1980\n",
      "11   November  11  1981\n",
      "12   November  15  1982\n",
      "13   November  14  1983\n",
      "14   November   6  1984\n",
      "15   November   4  1985\n",
      "16    October  30  1986\n",
      "17    October  23  1987\n",
      "18    October  15  1988\n",
      "19    October  11  1989\n",
      "20    October  11  1990\n",
      "21    October  10  1991\n",
      "22    October  12  1992\n",
      "23    October  12  1993\n",
      "24    October  10  1994\n",
      "25    October   4  1995\n",
      "26    October   2  1996\n",
      "27  September  29  1997\n",
      "28  September  29  1998\n",
      "29  September  29  1999\n",
      "30  September  23  2000\n",
      "31  September  22  2001\n",
      "32  September  19  2002\n",
      "33  September   9  2003\n",
      "34  September   1  2004\n",
      "35     August  25  2005\n",
      "36     August  19  2006\n",
      "37     August  14  2007\n",
      "38     August  14  2008\n",
      "39     August  18  2009\n",
      "40     August   7  2010\n",
      "41     August   4  2011\n",
      "42     August   4  2012\n",
      "43     August   3  2013\n",
      "44     August   4  2014\n",
      "45     August   5  2015\n",
      "46     August   5  2016\n",
      "47     August   1  2017\n",
      "48       July  29  2018\n",
      "49       July  29  2019\n"
     ]
    }
   ],
   "source": [
    "# And now we loop this list with all the elements in it, and append\n",
    "# them to the new, empty list with the creative name 'list':\n",
    "\n",
    "list = []\n",
    "\n",
    "for element in allElements:\n",
    "    # Again, by splitting by comma, we do get the string into\n",
    "    # a list-shape that we can iterate through later\n",
    "    list.append(element.split(','))\n",
    "    \n",
    "df = pd.DataFrame(list,columns=['Month','Day','Year'])\n",
    "\n",
    "# Check if all looks good:\n",
    "print df"
   ]
  },
  {
   "cell_type": "code",
   "execution_count": 121,
   "metadata": {},
   "outputs": [],
   "source": [
    "# And we save this into a .csv file named 'export_dataframe.csv'\n",
    "export_csv = df.to_csv (r'export_dataframe.csv', index = None, header=True)"
   ]
  },
  {
   "cell_type": "markdown",
   "metadata": {},
   "source": [
    "## Calculating which day of year the Overshoot happened every year"
   ]
  },
  {
   "cell_type": "code",
   "execution_count": 122,
   "metadata": {},
   "outputs": [
    {
     "name": "stdout",
     "output_type": "stream",
     "text": [
      "[[1970, 363], [1971, 354], [1972, 345], [1973, 330], [1974, 331], [1975, 334], [1976, 321], [1977, 315], [1978, 311], [1979, 302], [1980, 309], [1981, 315], [1982, 319], [1983, 318], [1984, 311], [1985, 308], [1986, 303], [1987, 296], [1988, 289], [1989, 284], [1990, 284], [1991, 283], [1992, 286], [1993, 285], [1994, 283], [1995, 277], [1996, 276], [1997, 272], [1998, 272], [1999, 272], [2000, 267], [2001, 265], [2002, 262], [2003, 252], [2004, 245], [2005, 237], [2006, 231], [2007, 226], [2008, 227], [2009, 230], [2010, 219], [2011, 216], [2012, 217], [2013, 215], [2014, 216], [2015, 217], [2016, 218], [2017, 213], [2018, 210], [2019, 210]]\n"
     ]
    }
   ],
   "source": [
    "# Well done, data is saved and stored, now we need to find out how we want\n",
    "# to plot it. What do we want to show? How do we get there?\n",
    "# We know the Day, Month and Year of the Overshoot days between 1970 and 2019.\n",
    "# Let's map this in a linechart over time (x-axis) that shows the amount of\n",
    "# days passed before the Overshoot Day happened – in a year.\n",
    "\n",
    "# Let's start, again, with an empty list, named 'list2'\n",
    "\n",
    "# Create empty list / array in python like this\n",
    "list2 = []\n",
    "\n",
    "# Loop through all the rows we've got in our old list (and in our CSV, of course)\n",
    "for row in list:\n",
    "    # We put together a datestring that's readable by the datetime.strptime \n",
    "    # function later, so this should look like the example:\n",
    "    # 'November,1,1987' – which translates into the format we'll use: '%B,%d,%Y'\n",
    "\n",
    "    # row[0] is the full month name, [2] the day as a number and [3] the full year\n",
    "    dateString = row[0] + ',' + row[1] + ',' + row[2]\n",
    "    \n",
    "    # Evaluate year and shootout day (number of day in a year) per row with .tm_yday\n",
    "    day_of_year = datetime.strptime(dateString,'%B,%d,%Y').timetuple().tm_yday\n",
    "\n",
    "    # Also find out what year we're currently looking at\n",
    "    year = datetime.strptime(dateString,'%B,%d,%Y').timetuple().tm_year\n",
    "    \n",
    "    # Add one object per year to the empty list, so we can plot it later with Pandas\n",
    "    list2.append([int(year),day_of_year])\n",
    "    \n",
    "# Print out current day of year to see if it's all in there. It's a list of lists:\n",
    "print list2"
   ]
  },
  {
   "cell_type": "code",
   "execution_count": 123,
   "metadata": {},
   "outputs": [
    {
     "name": "stdout",
     "output_type": "stream",
     "text": [
      "    Year  Overshoot\n",
      "0   1970        363\n",
      "1   1971        354\n",
      "2   1972        345\n",
      "3   1973        330\n",
      "4   1974        331\n",
      "5   1975        334\n",
      "6   1976        321\n",
      "7   1977        315\n",
      "8   1978        311\n",
      "9   1979        302\n",
      "10  1980        309\n",
      "11  1981        315\n",
      "12  1982        319\n",
      "13  1983        318\n",
      "14  1984        311\n",
      "15  1985        308\n",
      "16  1986        303\n",
      "17  1987        296\n",
      "18  1988        289\n",
      "19  1989        284\n",
      "20  1990        284\n",
      "21  1991        283\n",
      "22  1992        286\n",
      "23  1993        285\n",
      "24  1994        283\n",
      "25  1995        277\n",
      "26  1996        276\n",
      "27  1997        272\n",
      "28  1998        272\n",
      "29  1999        272\n",
      "30  2000        267\n",
      "31  2001        265\n",
      "32  2002        262\n",
      "33  2003        252\n",
      "34  2004        245\n",
      "35  2005        237\n",
      "36  2006        231\n",
      "37  2007        226\n",
      "38  2008        227\n",
      "39  2009        230\n",
      "40  2010        219\n",
      "41  2011        216\n",
      "42  2012        217\n",
      "43  2013        215\n",
      "44  2014        216\n",
      "45  2015        217\n",
      "46  2016        218\n",
      "47  2017        213\n",
      "48  2018        210\n",
      "49  2019        210\n"
     ]
    }
   ],
   "source": [
    "# Looking great. Now we put this all into a Pandas Dataframe, so we can\n",
    "# create a plot with it later\n",
    "\n",
    "# Look at the printed list above, the first element in our list (of lists) \n",
    "# is always Year, second is Shootout day (day of year that we evaluated to be \n",
    "# the Shootout day)\n",
    "\n",
    "# Let's name our Dataframe df2, and give in the list2, Year and Shootout as columns:\n",
    "df2 = pd.DataFrame(list2, columns = ['Year','Overshoot'])\n",
    "  \n",
    "# Print dataframe to see if it looking alright\n",
    "print df2"
   ]
  },
  {
   "cell_type": "markdown",
   "metadata": {},
   "source": [
    "## Plotting the data into a linechart"
   ]
  },
  {
   "cell_type": "code",
   "execution_count": 124,
   "metadata": {},
   "outputs": [
    {
     "name": "stdout",
     "output_type": "stream",
     "text": [
      "[2019, 2014, 2009, 2004, 1999, 1994, 1989, 1984, 1979, 1974]\n",
      "[363, 338, 313, 288, 263, 238, 213]\n"
     ]
    },
    {
     "data": {
      "image/png": "[encoded data removed]",
      "text/plain": [
       "<Figure size 720x720 with 2 Axes>"
      ]
     },
     "metadata": {
      "needs_background": "light"
     },
     "output_type": "display_data"
    }
   ],
   "source": [
    "# Nice one. Now we what number (out of 365 days a year) day every year\n",
    "# the Overshoot Day happened.\n",
    "\n",
    "# Now we're going to plot this data in a very simple linechart, using a figure\n",
    "# with two subplots that will have different plotting settings:\n",
    "\n",
    "# Some settings for plotting\n",
    "# (w = width, h = height, d = dpi, s = space)\n",
    "w = 10\n",
    "h = 10\n",
    "d = 72\n",
    "s = 0.3\n",
    "\n",
    "# Initialising the figure, setting width, height and dots per inch\n",
    "fig = plt.figure(figsize=(w, h), dpi=d)\n",
    "\n",
    "# Adding figure title\n",
    "fig.suptitle('How quickly our planet gets fucked.', fontsize=16)\n",
    "\n",
    "# Divide the figure into a 2x1 grid, and give me the first section\n",
    "ax1 = fig.add_subplot(211)\n",
    "# Set title for first plot\n",
    "ax1.set_title(\"yAxis is only showing existing values:\")\n",
    "\n",
    "# Divide the figure into a 2x1 grid, and give me the second section\n",
    "ax2 = fig.add_subplot(212)\n",
    "# Set title for second plot\n",
    "ax2.set_title(\"Same data, different plot settings:\")\n",
    "\n",
    "# About the axis ticks...\n",
    "\n",
    "# We want the ticks of the xAxis on the plot we'll create to definitely\n",
    "# show the current year. This is df2['Year'].max() – and then go back in \n",
    "# steps of 5 years, until minimum year, which is df2['Year'].min()\n",
    "\n",
    "# The np.arange(start,end,steps).toList() function does that for us and\n",
    "# creates a new list with all the years:\n",
    "xTicks = np.arange(df2['Year'].max(), df2['Year'].min(), -5).tolist()\n",
    "\n",
    "# Print xTicks as they are. As we see, they are, of course, the wrong way round now:\n",
    "print xTicks\n",
    "\n",
    "# Calculating ticks for 2019 (last entry in the dataframe) until 1970,\n",
    "# in steps of 25 years:\n",
    "yTicks1 = np.arange(df2['Overshoot'].max(), df2['Overshoot'].min(), -25).tolist()\n",
    "\n",
    "# For the second plot we simply put ticks every 25 years, starting at 365\n",
    "yTicks2 = np.arange(365, 0, -25).tolist()\n",
    "\n",
    "# ...and also print yTicks\n",
    "print yTicks\n",
    "\n",
    "df2.plot(\n",
    "    ax=ax1,\n",
    "    x ='Year',\n",
    "    y='Overshoot',\n",
    "    kind = 'line',\n",
    "    xticks=xTicks,\n",
    "    yticks=yTicks1\n",
    ")\n",
    "\n",
    "df2.plot(\n",
    "    ax=ax2,\n",
    "    x ='Year',\n",
    "    y='Overshoot',\n",
    "    kind = 'line',\n",
    "    ylim=[0,365],\n",
    "    yticks=yTicks2\n",
    ")\n",
    "\n",
    "\n",
    "# More space between subplots\n",
    "fig.subplots_adjust(hspace=s)"
   ]
  },
  {
   "cell_type": "code",
   "execution_count": 125,
   "metadata": {},
   "outputs": [],
   "source": [
    "# Good work! Now, for the final step, we save this as PDF and PNG to our\n",
    "# local folder. Like this:\n",
    "\n",
    "# Saving to PNG and PDF\n",
    "fig.savefig('shootout.pdf')\n",
    "fig.savefig('shootout.png')"
   ]
  },
  {
   "cell_type": "markdown",
   "metadata": {},
   "source": [
    "# Thanks for reading! That was my very first, small Python tutorial. Get in touch via https://www.marcfehr.com if you want me to do another one – best to also come up with an idea! :)"
   ]
  }
 ],
 "metadata": {
  "kernelspec": {
   "display_name": "Python 2",
   "language": "python",
   "name": "python2"
  },
  "language_info": {
   "codemirror_mode": {
    "name": "ipython",
    "version": 2
   },
   "file_extension": ".py",
   "mimetype": "text/x-python",
   "name": "python",
   "nbconvert_exporter": "python",
   "pygments_lexer": "ipython2",
   "version": "2.7.16"
  }
 },
 "nbformat": 4,
 "nbformat_minor": 2
}
